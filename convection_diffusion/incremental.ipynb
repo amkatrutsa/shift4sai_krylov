{
 "cells": [
  {
   "cell_type": "code",
   "execution_count": 1,
   "metadata": {},
   "outputs": [],
   "source": [
    "import numpy as np\n",
    "import matplotlib.pyplot as plt\n",
    "%matplotlib inline\n",
    "plt.rc(\"text\", usetex=True)\n",
    "import scipy.io as sio\n",
    "import scipy.stats as spstat\n",
    "import scipy.sparse.linalg as spsplin\n",
    "import scipy.sparse as spsp\n",
    "import time\n",
    "\n",
    "import sys\n",
    "sys.path.insert(0, '../src/')\n",
    "\n",
    "import sai"
   ]
  },
  {
   "cell_type": "code",
   "execution_count": 2,
   "metadata": {},
   "outputs": [],
   "source": [
    "# Discretization 200x200 with homogeneous boundary conditions\n",
    "data = sio.loadmat(\"../data/pe1000nons_202x202.mat\")\n",
    "# Discretization 300x300 with homogeneous boundary conditions\n",
    "# data = sio.loadmat(\"../data/pe1000nons_302x302.mat\")\n",
    "\n",
    "A = data[\"A\"]\n",
    "u0 = data[\"v\"]\n",
    "n = int(np.sqrt(A.shape[0]))"
   ]
  },
  {
   "cell_type": "code",
   "execution_count": 3,
   "metadata": {},
   "outputs": [],
   "source": [
    "start = 0.\n",
    "stop = 0.0001\n",
    "delta_trial = 0.1"
   ]
  },
  {
   "cell_type": "code",
   "execution_count": 4,
   "metadata": {},
   "outputs": [
    {
     "name": "stdout",
     "output_type": "stream",
     "text": [
      "(40000, 20)\n"
     ]
    }
   ],
   "source": [
    "if n == 200:\n",
    "    u_test_data = np.load(\"../data/u_test_200.npz\")\n",
    "elif n == 300:\n",
    "    u_test_data = np.load(\"../data/u_test_300.npz\")\n",
    "U = u_test_data[\"U_test\"]\n",
    "batch_size = U.shape[1]\n",
    "print(U.shape)"
   ]
  },
  {
   "cell_type": "code",
   "execution_count": 5,
   "metadata": {},
   "outputs": [
    {
     "data": {
      "text/plain": [
       "(40000, 1)"
      ]
     },
     "execution_count": 5,
     "metadata": {},
     "output_type": "execute_result"
    }
   ],
   "source": [
    "u0.shape"
   ]
  },
  {
   "cell_type": "code",
   "execution_count": 6,
   "metadata": {
    "scrolled": true
   },
   "outputs": [
    {
     "name": "stdout",
     "output_type": "stream",
     "text": [
      "Computing sparse LU factorization of the SAI matrix...\n",
      "j = 0, resnorm = 9978.539098572664\n",
      "j = 1, resnorm = 44929.40735511692\n",
      "j = 2, resnorm = 21493.661474343236\n",
      "j = 3, resnorm = 18895.836670549143\n",
      "j = 4, resnorm = 16682.92633205598\n",
      "j = 5, resnorm = 11943.229523391628\n",
      "j = 6, resnorm = 3810.2537157977877\n",
      "j = 7, resnorm = 6468.649597116109\n",
      "j = 8, resnorm = 5185.785217387113\n",
      "j = 9, resnorm = 4562.999373751641\n",
      "j = 10, resnorm = 4404.599982585617\n",
      "j = 11, resnorm = 4438.242964724067\n",
      "j = 12, resnorm = 2884.5793458856438\n",
      "j = 13, resnorm = 4319.890276642607\n",
      "j = 14, resnorm = 1244.4027875704044\n",
      "j = 15, resnorm = 3036.1491275356175\n",
      "j = 16, resnorm = 2901.868249894442\n",
      "j = 17, resnorm = 637.4712850385139\n",
      "j = 18, resnorm = 3087.919150312675\n",
      "j = 19, resnorm = 3343.642144613083\n",
      "j = 20, resnorm = 1155.1176472500601\n",
      "j = 21, resnorm = 2982.8575834779444\n",
      "j = 22, resnorm = 4402.486722609882\n",
      "j = 23, resnorm = 2698.8499884824123\n",
      "j = 24, resnorm = 1554.7599709393705\n",
      "j = 25, resnorm = 4105.908805409523\n",
      "j = 26, resnorm = 4868.0908008018305\n",
      "j = 27, resnorm = 2862.482684693271\n",
      "j = 28, resnorm = 1459.6712189216867\n",
      "j = 29, resnorm = 3791.177053448672\n",
      "j = 30, resnorm = 4628.817936375751\n",
      "j = 31, resnorm = 2930.761180324568\n",
      "j = 32, resnorm = 632.5233107110315\n",
      "j = 33, resnorm = 2158.9615709924897\n",
      "j = 34, resnorm = 2901.8550374869424\n",
      "j = 35, resnorm = 2160.383754330565\n",
      "j = 36, resnorm = 763.8036762938324\n",
      "j = 37, resnorm = 538.0869605100647\n",
      "j = 38, resnorm = 1296.2792133083587\n",
      "j = 39, resnorm = 1374.167168630819\n",
      "j = 40, resnorm = 915.7397129078917\n",
      "j = 41, resnorm = 238.12517948507787\n",
      "j = 42, resnorm = 323.95598658806523\n",
      "j = 43, resnorm = 592.2417792921053\n",
      "j = 44, resnorm = 577.0526212187947\n",
      "j = 45, resnorm = 380.25743551028654\n",
      "j = 46, resnorm = 128.77449605300347\n",
      "j = 47, resnorm = 82.74533949801514\n",
      "j = 48, resnorm = 202.5092621072623\n",
      "j = 49, resnorm = 224.480077181196\n",
      "j = 50, resnorm = 175.3972731700452\n",
      "j = 51, resnorm = 87.65288674427721\n",
      "j = 52, resnorm = 24.786677263579538\n",
      "j = 53, resnorm = 54.72945436342296\n",
      "j = 54, resnorm = 81.50231970323546\n",
      "j = 55, resnorm = 79.16516096169013\n",
      "j = 56, resnorm = 58.30541457644531\n",
      "j = 57, resnorm = 29.33689888967075\n",
      "j = 58, resnorm = 9.707192083279264\n",
      "j = 59, resnorm = 27.073862383406293\n",
      "j = 60, resnorm = 40.24243859531485\n",
      "j = 61, resnorm = 39.275383159918725\n",
      "j = 62, resnorm = 26.894843094779873\n",
      "j = 63, resnorm = 10.39767729485325\n",
      "j = 64, resnorm = 3.0631623150901874\n",
      "j = 65, resnorm = 9.666019926319732\n",
      "j = 66, resnorm = 11.211522190468317\n",
      "j = 67, resnorm = 9.623357100081964\n",
      "j = 68, resnorm = 6.722546667735613\n",
      "j = 69, resnorm = 3.5553496549737638\n",
      "j = 70, resnorm = 0.715552099388218\n",
      "j = 71, resnorm = 1.552718598117523\n",
      "j = 72, resnorm = 3.016193003371374\n",
      "j = 73, resnorm = 3.5067489821617337\n",
      "j = 74, resnorm = 3.0578303314447917\n",
      "j = 75, resnorm = 1.9850264337722165\n",
      "j = 76, resnorm = 0.7635000212194935\n",
      "j = 77, resnorm = 0.20430839863579242\n",
      "j = 78, resnorm = 0.7788811684147737\n",
      "j = 79, resnorm = 0.9956030755371652\n",
      "j = 80, resnorm = 0.9574319166854802\n",
      "j = 81, resnorm = 0.7649178591948644\n",
      "j = 82, resnorm = 0.4917247453524876\n",
      "j = 83, resnorm = 0.19501889985430892\n",
      "j = 84, resnorm = 0.0681470110127387\n",
      "j = 85, resnorm = 0.25506665215377583\n",
      "j = 86, resnorm = 0.33777853173754085\n",
      "j = 87, resnorm = 0.3178372882896227\n",
      "j = 88, resnorm = 0.2351596076396894\n",
      "j = 89, resnorm = 0.1312207415560866\n",
      "j = 90, resnorm = 0.03919275580249773\n",
      "j = 91, resnorm = 0.02504781519755457\n",
      "j = 92, resnorm = 0.061149321901318845\n",
      "j = 93, resnorm = 0.07364327958363534\n",
      "j = 94, resnorm = 0.06947627431182936\n",
      "j = 95, resnorm = 0.055519990398268285\n",
      "j = 96, resnorm = 0.03638431326181502\n",
      "j = 97, resnorm = 0.016828222510943666\n",
      "j = 98, resnorm = 0.0061794108624729695\n",
      "j = 99, resnorm = 0.01344065475290308\n",
      "j = 100, resnorm = 0.020975014772252217\n",
      "j = 101, resnorm = 0.023155320882961336\n",
      "j = 102, resnorm = 0.020699172012741514\n",
      "j = 103, resnorm = 0.014964756594246597\n",
      "j = 104, resnorm = 0.007934718090103921\n",
      "j = 105, resnorm = 0.0021202630032501777\n",
      "j = 106, resnorm = 0.00311984332621404\n",
      "j = 107, resnorm = 0.005316799369821261\n",
      "j = 108, resnorm = 0.005616664643869561\n",
      "j = 109, resnorm = 0.00476425515197221\n",
      "j = 110, resnorm = 0.003453796359020162\n",
      "j = 111, resnorm = 0.0021201647230882415\n",
      "j = 112, resnorm = 0.0009431169109988272\n",
      "j = 113, resnorm = 0.000325022132970471\n",
      "j = 114, resnorm = 0.0006900030777847907\n",
      "j = 115, resnorm = 0.0011448115537796514\n",
      "j = 116, resnorm = 0.001347039123827799\n",
      "j = 117, resnorm = 0.0013110724536533158\n",
      "j = 118, resnorm = 0.0010605293661240702\n",
      "j = 119, resnorm = 0.0006744732647908877\n",
      "j = 120, resnorm = 0.0002641073354753568\n",
      "j = 121, resnorm = 7.730003929411875e-05\n",
      "j = 122, resnorm = 0.00026897440483885325\n",
      "j = 123, resnorm = 0.00034364788377383795\n",
      "j = 124, resnorm = 0.00033353078313592705\n",
      "j = 125, resnorm = 0.00027540288070962703\n",
      "j = 126, resnorm = 0.00020045916067202058\n",
      "j = 127, resnorm = 0.00012317996251059028\n",
      "j = 128, resnorm = 5.2201106254299864e-05\n",
      "j = 129, resnorm = 1.3736997165980132e-05\n",
      "j = 130, resnorm = 5.110237762305914e-05\n",
      "j = 131, resnorm = 7.617048116766577e-05\n",
      "j = 132, resnorm = 8.149096964861342e-05\n",
      "j = 133, resnorm = 7.08959058207651e-05\n",
      "j = 134, resnorm = 5.134070781353967e-05\n",
      "j = 135, resnorm = 3.0330029051873252e-05\n",
      "j = 136, resnorm = 1.2463882921086775e-05\n",
      "j = 137, resnorm = 6.497242845635568e-06\n"
     ]
    }
   ],
   "source": [
    "ut, der = sai.expm_ArnoldiSAI2_der(A, u0.ravel(), stop, delta_trial*stop, 1e-5, 1000)"
   ]
  },
  {
   "cell_type": "code",
   "execution_count": 7,
   "metadata": {},
   "outputs": [
    {
     "name": "stdout",
     "output_type": "stream",
     "text": [
      "Derivative estimate = 92.78544337765574\n"
     ]
    }
   ],
   "source": [
    "print(\"Derivative estimate =\", der)"
   ]
  },
  {
   "cell_type": "code",
   "execution_count": 8,
   "metadata": {},
   "outputs": [
    {
     "data": {
      "text/plain": [
       "<matplotlib.colorbar.Colorbar at 0x1a43a5fe48>"
      ]
     },
     "execution_count": 8,
     "metadata": {},
     "output_type": "execute_result"
    },
    {
     "data": {
      "image/png": "[encoded data removed]",
      "text/plain": [
       "<Figure size 432x288 with 2 Axes>"
      ]
     },
     "metadata": {
      "needs_background": "light"
     },
     "output_type": "display_data"
    }
   ],
   "source": [
    "plt.imshow(ut.reshape(n, n))\n",
    "plt.colorbar()"
   ]
  },
  {
   "cell_type": "markdown",
   "metadata": {},
   "source": [
    "## Improve $\\gamma$ for every next initial vector"
   ]
  },
  {
   "cell_type": "code",
   "execution_count": 9,
   "metadata": {},
   "outputs": [],
   "source": [
    "gamma0 = delta_trial * stop\n",
    "tol = 1e-6\n",
    "max_iter = 1000"
   ]
  },
  {
   "cell_type": "code",
   "execution_count": 10,
   "metadata": {},
   "outputs": [
    {
     "name": "stdout",
     "output_type": "stream",
     "text": [
      "Index of the processing vector = 0\n",
      "Index of the processing vector = 1\n",
      "Index of the processing vector = 2\n",
      "Index of the processing vector = 3\n",
      "Index of the processing vector = 4\n",
      "Index of the processing vector = 5\n",
      "Index of the processing vector = 6\n",
      "Index of the processing vector = 7\n",
      "Index of the processing vector = 8\n",
      "Index of the processing vector = 9\n",
      "Index of the processing vector = 10\n",
      "Index of the processing vector = 11\n",
      "Index of the processing vector = 12\n",
      "Index of the processing vector = 13\n",
      "Index of the processing vector = 14\n",
      "Index of the processing vector = 15\n",
      "Index of the processing vector = 16\n",
      "Index of the processing vector = 17\n",
      "Index of the processing vector = 18\n",
      "Index of the processing vector = 19\n"
     ]
    }
   ],
   "source": [
    "conv_hist_base = []\n",
    "st_lu = time.time()\n",
    "A_lu = spsplin.splu(spsp.eye(A.shape[0], format=\"csc\") + gamma0 * A)\n",
    "fin_lu = time.time()\n",
    "time_conv_gamma0 = [fin_lu - st_lu]\n",
    "for i in range(batch_size):\n",
    "    print(\"Index of the processing vector =\", i)\n",
    "    u0 = U[:, i][:, np.newaxis]\n",
    "    st = time.time()\n",
    "    _, _, conv_base = sai.expm_ArnoldiSAI(A, u0, stop, gamma0, tol, max_iter, disp=False, A_lu=A_lu)\n",
    "    time_conv_gamma0.append(time_conv_gamma0[-1] - st + time.time())\n",
    "    conv_hist_base.append(len(conv_base[conv_base > 0]))"
   ]
  },
  {
   "cell_type": "code",
   "execution_count": 20,
   "metadata": {},
   "outputs": [
    {
     "data": {
      "text/plain": [
       "<matplotlib.legend.Legend at 0x1a1c4c0390>"
      ]
     },
     "execution_count": 20,
     "metadata": {},
     "output_type": "execute_result"
    },
    {
     "data": {
      "image/png": "[encoded data removed]",
      "text/plain": [
       "<Figure size 432x288 with 1 Axes>"
      ]
     },
     "metadata": {
      "needs_background": "light"
     },
     "output_type": "display_data"
    }
   ],
   "source": [
    "plt.plot(time_conv_gamma0, label=r\"$\\delta = {}$\".format(delta_trial))\n",
    "plt.grid(True)\n",
    "plt.xlabel(\"Number of trial initial states\", fontsize=20)\n",
    "plt.ylabel(\"CPU time, sec\", fontsize=20)\n",
    "plt.legend(fontsize=20)"
   ]
  },
  {
   "cell_type": "code",
   "execution_count": 21,
   "metadata": {},
   "outputs": [
    {
     "name": "stdout",
     "output_type": "stream",
     "text": [
      "Test vector index = 0, current delta = 0.055\n",
      "Derivative estimate = 38.06597914757086\n",
      "Test vector index = 1, current delta = 0.0325\n",
      "Derivative estimate = 15.23587916887053\n",
      "Test vector index = 2, current delta = 0.02125\n",
      "Derivative estimate = 9.250084607532855\n",
      "Test vector index = 3, current delta = 0.015625\n",
      "Derivative estimate = 7.320208335117531\n",
      "Test vector index = 4, current delta = 0.012812500000000001\n",
      "Derivative estimate = 2.940356689930473\n",
      "Test vector index = 5, current delta = 0.01140625\n",
      "Derivative estimate = 4.190020327507534\n",
      "Test vector index = 6, current delta = 0.010703125\n",
      "Derivative estimate = 4.204906070891761\n",
      "Test vector index = 7, current delta = 0.010351562500000001\n",
      "Derivative estimate = -2.3322485797529278\n",
      "Test vector index = 8, current delta = 0.010527343750000001\n",
      "Derivative estimate = 1.0435107317247176\n",
      "Test vector index = 9, current delta = 0.010439453125000001\n",
      "Derivative estimate = 2.4206585455700647\n",
      "Test vector index = 10, current delta = 0.010395507812500001\n",
      "Derivative estimate = 0.7858685343655147\n",
      "Test vector index = 11, current delta = 0.010373535156250002\n",
      "Derivative estimate = -1.841114320151834\n",
      "Test vector index = 12, current delta = 0.010384521484375003\n",
      "Derivative estimate = 28.85605893739168\n",
      "Test vector index = 13, current delta = 0.010379028320312502\n",
      "Derivative estimate = 12.208149042962495\n",
      "Test vector index = 14, current delta = 0.010376281738281253\n",
      "59.0\n",
      "Test vector index = 15, current delta = 0.010376281738281253\n",
      "56.5\n",
      "Test vector index = 16, current delta = 0.010376281738281253\n",
      "56.666666666666664\n",
      "Test vector index = 17, current delta = 0.010376281738281253\n",
      "58.5\n",
      "Test vector index = 18, current delta = 0.010376281738281253\n",
      "59.0\n",
      "Test vector index = 19, current delta = 0.010376281738281253\n",
      "58.666666666666664\n"
     ]
    }
   ],
   "source": [
    "time_conv_opt = [0.0]\n",
    "active_delta = []\n",
    "low_delta = 0.01\n",
    "up_delta = 0.1\n",
    "A_lu = None\n",
    "conv_hist = []\n",
    "for i in range(batch_size):\n",
    "    current_delta = (low_delta + up_delta) * 0.5\n",
    "    print(\"Test vector index = {}, current delta = {}\".format(i, current_delta))\n",
    "    active_delta.append(current_delta)\n",
    "    if np.abs(up_delta - low_delta) > 1e-5:\n",
    "        st = time.time()\n",
    "        ut, der = sai.expm_ArnoldiSAI2_der(A, U[:, i], stop, current_delta * stop, tol, max_iter, disp=False)\n",
    "        time_conv_opt.append(time_conv_opt[-1] - st + time.time())\n",
    "        print(\"Derivative estimate =\", der)\n",
    "        if der > 0:\n",
    "            up_delta = current_delta\n",
    "        else:\n",
    "            low_delta = current_delta\n",
    "    else:\n",
    "        if A_lu is None:\n",
    "            A_lu = spsplin.splu(spsp.eye(A.shape[0], format=\"csc\") + current_delta * stop * A)\n",
    "        st = time.time()\n",
    "        _, _, conv_iter = sai.expm_ArnoldiSAI(A, U[:, i][:, np.newaxis], stop, current_delta * stop, tol, max_iter, False, A_lu)\n",
    "        time_conv_opt.append(time_conv_opt[-1] - st + time.time())\n",
    "        conv_hist.append(len(conv_iter[conv_iter > 0]))\n",
    "        print(np.mean(np.array(conv_hist)))"
   ]
  },
  {
   "cell_type": "code",
   "execution_count": 25,
   "metadata": {},
   "outputs": [
    {
     "data": {
      "text/plain": [
       "Text(0, 0.5, 'CPU time, sec')"
      ]
     },
     "execution_count": 25,
     "metadata": {},
     "output_type": "execute_result"
    },
    {
     "data": {
      "image/png": "[encoded data removed]",
      "text/plain": [
       "<Figure size 432x288 with 1 Axes>"
      ]
     },
     "metadata": {
      "needs_background": "light"
     },
     "output_type": "display_data"
    }
   ],
   "source": [
    "plt.plot(time_conv_opt, label=r\"Incremental\")\n",
    "plt.plot(time_conv_gamma0, label=r\"$\\bar{\\delta} = \" + str(delta_trial) + \"$\")\n",
    "plt.legend(fontsize=20)\n",
    "plt.grid(True)\n",
    "plt.xlabel(\"Number of trial initial states\", fontsize=20)\n",
    "plt.ylabel(\"CPU time, sec\", fontsize=20)"
   ]
  },
  {
   "cell_type": "code",
   "execution_count": 26,
   "metadata": {},
   "outputs": [
    {
     "data": {
      "image/png": "[encoded data removed]",
      "text/plain": [
       "<Figure size 432x288 with 1 Axes>"
      ]
     },
     "metadata": {
      "needs_background": "light"
     },
     "output_type": "display_data"
    }
   ],
   "source": [
    "plt.plot(active_delta)\n",
    "plt.xlabel(\"Number of trial initial states\", fontsize=20)\n",
    "plt.grid(True)\n",
    "plt.ylabel(\"Used $\\delta$\", fontsize=20)\n",
    "plt.yticks(fontsize=20)\n",
    "_ = plt.xticks(fontsize=20)"
   ]
  }
 ],
 "metadata": {
  "kernelspec": {
   "display_name": "Python 3",
   "language": "python",
   "name": "python3"
  },
  "language_info": {
   "codemirror_mode": {
    "name": "ipython",
    "version": 3
   },
   "file_extension": ".py",
   "mimetype": "text/x-python",
   "name": "python",
   "nbconvert_exporter": "python",
   "pygments_lexer": "ipython3",
   "version": "3.6.8"
  }
 },
 "nbformat": 4,
 "nbformat_minor": 2
}
